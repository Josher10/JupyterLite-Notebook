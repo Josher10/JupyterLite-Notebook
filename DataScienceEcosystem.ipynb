{
 "cells": [
  {
   "cell_type": "code",
   "execution_count": null,
   "id": "5d444290-8aba-414a-9a4e-d9365cc3ef8b",
   "metadata": {},
   "outputs": [],
   "source": []
  },
  {
   "cell_type": "markdown",
   "id": "129eab97-d981-413a-9286-6d4b00db98ef",
   "metadata": {},
   "source": [
    "# Data Science Tools and Ecosystem"
   ]
  },
  {
   "cell_type": "markdown",
   "id": "d9c5f371-f98f-4e90-ac6d-f03d2c900375",
   "metadata": {},
   "source": [
    "This notebook summarizes data science tools and ecosystems."
   ]
  },
  {
   "cell_type": "markdown",
   "id": "44eebbc2-52b1-42b0-9ada-2bb7fd5a809e",
   "metadata": {},
   "source": [
    "**Objectives:**\n",
    "\n",
    "- List popular languages for Data Science.\n",
    "\n",
    "- List data science libraries.\n",
    "\n",
    "- Create a code cell to multiply and add numbers.\n",
    "\n",
    "- Create a code cell to convert minutes to hours."
   ]
  },
  {
   "cell_type": "markdown",
   "id": "0c409b1c-4047-4931-b905-10132186de51",
   "metadata": {},
   "source": [
    "Some of the popular languages used by data scientists are:\n",
    "1. Python\n",
    "2. R\n",
    "3. SQL\n",
    "4. C++"
   ]
  },
  {
   "cell_type": "markdown",
   "id": "28e624c0-8003-43c9-9a0f-29ac82b66b8c",
   "metadata": {},
   "source": [
    "Some of the libraries commonly used by data scientists include:\n",
    "\n",
    "1.  **Pandas**: A powerful and flexible open-source data analysis and manipulation tool, built on top of the Python programming language. It's often used for handling and analyzing structured data.\n",
    "\n",
    "2.  **NumPy**: The fundamental package for scientific computing in Python. It provides support for large, multi-dimensional arrays and matrices, along with a collection of high-level mathematical functions to operate on these arrays.\n",
    "\n",
    "3.  **Scikit-learn**: A free software machine learning library for Python. It features various classification, regression, and clustering algorithms, and is designed to interoperate with the Python numerical and scientific libraries NumPy and SciPy."
   ]
  },
  {
   "cell_type": "markdown",
   "id": "4e94c79d-4101-4c55-8cff-d24504ecd7db",
   "metadata": {},
   "source": [
    "| Data Science Tools |\n",
    "| :------------------------------ |\n",
    "| Jupyter Notebooks               |\n",
    "| RStudio                         |\n",
    "| Apache Spark                    |"
   ]
  },
  {
   "cell_type": "markdown",
   "id": "de935196-0e12-4419-ba35-79e9e51f0e7a",
   "metadata": {},
   "source": [
    "### Below are some examples of evaluating arithmetic expressions in Python."
   ]
  },
  {
   "cell_type": "code",
   "execution_count": 5,
   "id": "fab5a1f9-952c-420e-bb24-77df9b6e3f98",
   "metadata": {
    "scrolled": true
   },
   "outputs": [
    {
     "data": {
      "text/plain": [
       "17"
      ]
     },
     "execution_count": 5,
     "metadata": {},
     "output_type": "execute_result"
    }
   ],
   "source": [
    "# This is a simple arithmetic expression for multiplying and then adding integers.\n",
    "(3*4)+5"
   ]
  },
  {
   "cell_type": "code",
   "execution_count": 6,
   "id": "19fdf0d9-6217-4124-84b0-232278bacd8b",
   "metadata": {},
   "outputs": [
    {
     "data": {
      "text/plain": [
       "3.3333333333333335"
      ]
     },
     "execution_count": 6,
     "metadata": {},
     "output_type": "execute_result"
    }
   ],
   "source": [
    "# This will convert 200 minutes to hours by dividing by 60.\n",
    "200 / 60"
   ]
  },
  {
   "cell_type": "markdown",
   "id": "b875df1a-aca2-4f03-b91c-6c9dbf340ff7",
   "metadata": {},
   "source": [
    "## Author\n",
    "Jostin Herrera"
   ]
  },
  {
   "cell_type": "code",
   "execution_count": null,
   "id": "71f45f7e-25ac-49f7-859a-21faad589fc6",
   "metadata": {},
   "outputs": [],
   "source": []
  }
 ],
 "metadata": {
  "kernelspec": {
   "display_name": "Python 3 (ipykernel)",
   "language": "python",
   "name": "python3"
  },
  "language_info": {
   "codemirror_mode": {
    "name": "ipython",
    "version": 3
   },
   "file_extension": ".py",
   "mimetype": "text/x-python",
   "name": "python",
   "nbconvert_exporter": "python",
   "pygments_lexer": "ipython3",
   "version": "3.12.8"
  }
 },
 "nbformat": 4,
 "nbformat_minor": 5
}
